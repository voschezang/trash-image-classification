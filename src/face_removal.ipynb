{
 "cells": [
  {
   "cell_type": "code",
   "execution_count": 1,
   "metadata": {},
   "outputs": [
    {
     "name": "stderr",
     "output_type": "stream",
     "text": [
      "/anaconda2/lib/python2.7/site-packages/h5py/__init__.py:36: FutureWarning: Conversion of the second argument of issubdtype from `float` to `np.floating` is deprecated. In future, it will be treated as `np.float64 == np.dtype(float).type`.\n",
      "  from ._conv import register_converters as _register_converters\n",
      "Using TensorFlow backend.\n"
     ]
    },
    {
     "name": "stdout",
     "output_type": "stream",
     "text": [
      " Dataset :: namedtuple(\n",
      "    ['train' = ['img_name']\n",
      "    , 'train_final' = ['img_name']\n",
      "    , 'test' = ['img_name']\n",
      "    , 'test_final' = ['img_name']\n",
      "    , 'labels' = pandas.df('img_name','breed')\n",
      "    , 'dict_index_to_label' = dict to convert label_index -> label_name\n",
      "    , 'dict_label_to_index'= dict to convert label_name -> label_index\n",
      "    \n"
     ]
    }
   ],
   "source": [
    "import numpy as np\n",
    "import sklearn, os, sys\n",
    "from sklearn import svm\n",
    "from skimage import data, io, filters\n",
    "import skimage.io\n",
    "import matplotlib.pyplot as plt\n",
    "import numpy as np\n",
    "\n",
    "import config, data, image\n",
    "from face_detection import detect_faces, draw_faces\n",
    "\n"
   ]
  },
  {
   "cell_type": "markdown",
   "metadata": {},
   "source": [
    "Initialize datasets"
   ]
  },
  {
   "cell_type": "code",
   "execution_count": 2,
   "metadata": {},
   "outputs": [],
   "source": [
    "dataset = data.init_dataset()\n",
    "train_data = dataset.train\n",
    "test_data = dataset.test\n",
    "new_train_data = dataset.train_final\n",
    "new_test_data = dataset.test_final"
   ]
  },
  {
   "cell_type": "markdown",
   "metadata": {},
   "source": [
    "Remove faces from train en test data and put images in new maps"
   ]
  },
  {
   "cell_type": "code",
   "execution_count": 8,
   "metadata": {},
   "outputs": [],
   "source": [
    "\n",
    "for img_name in train_data[0:10]:\n",
    "    img = skimage.io.imread('../datasets/train/' + img_name)\n",
    "    faces, gray_img = detect_faces(img, scale=1.3, nn=5)\n",
    "    for (x,y,w,h) in faces:\n",
    "        print('f',x,y,w,h)\n",
    "        (x,y,w,h) = image.extend_coordinates(x,y,w,h,img,scale=1.5,lower=3)\n",
    "        print(x,y,w,h)\n",
    "\n",
    "    img = image.add_noise(img,x,y,w,h)\n",
    "    skimage.io.imsave('../datasets/train_final/' + img_name, img)\n"
   ]
  },
  {
   "cell_type": "code",
   "execution_count": null,
   "metadata": {},
   "outputs": [],
   "source": []
  }
 ],
 "metadata": {
  "kernelspec": {
   "display_name": "Python 2",
   "language": "python",
   "name": "python2"
  },
  "language_info": {
   "codemirror_mode": {
    "name": "ipython",
    "version": 2
   },
   "file_extension": ".py",
   "mimetype": "text/x-python",
   "name": "python",
   "nbconvert_exporter": "python",
   "pygments_lexer": "ipython2",
   "version": "2.7.14"
  }
 },
 "nbformat": 4,
 "nbformat_minor": 2
}
