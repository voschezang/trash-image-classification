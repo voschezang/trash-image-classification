{
 "cells": [
  {
   "cell_type": "code",
   "execution_count": 1,
   "metadata": {},
   "outputs": [
    {
     "data": {
      "text/plain": [
       "'/Users/mark/src/dog-breed-identification/src'"
      ]
     },
     "execution_count": 1,
     "metadata": {},
     "output_type": "execute_result"
    }
   ],
   "source": [
    "import os\n",
    "os.chdir('../')\n",
    "os.getcwd()"
   ]
  },
  {
   "cell_type": "code",
   "execution_count": 2,
   "metadata": {},
   "outputs": [],
   "source": [
    "import numpy as np\n",
    "import sklearn\n",
    "from sklearn import svm\n",
    "from skimage import data, io, filters"
   ]
  },
  {
   "cell_type": "code",
   "execution_count": 2,
   "metadata": {},
   "outputs": [
    {
     "data": {
      "text/plain": [
       "array([3, 2, 3, 3, 3, 3, 3, 2, 2, 2, 1, 1, 2, 3, 2, 2, 1, 3, 3, 3, 3, 2,\n",
       "       2, 2, 2, 3, 3, 3, 1, 1, 1, 2, 3, 2, 2, 2, 1, 1, 1, 2, 2, 1, 1, 2,\n",
       "       2, 3, 3, 1, 1, 3, 3, 3, 3, 3, 3, 3, 3, 2, 2, 3, 3, 3, 3, 3, 3, 2,\n",
       "       2, 2, 2, 2, 2, 2, 2, 1, 3, 3, 3, 2, 2, 2, 3, 3, 3, 3, 3, 2, 2, 2,\n",
       "       3, 3, 3, 3, 1, 1, 3, 2, 2, 2, 3, 3])"
      ]
     },
     "execution_count": 2,
     "metadata": {},
     "output_type": "execute_result"
    }
   ],
   "source": [
    "\n",
    "## Classifier with Random data\n",
    "\n",
    "import random\n",
    "\n",
    "# X and Y are slightly different\n",
    "# X :: [constant, random float, semi-random int]\n",
    "\n",
    "X = [ [1,np.random.random(),x] for x in range(100)]\n",
    "Y = [ [2,np.random.random(),x] for x in range(100)]\n",
    "\n",
    "\n",
    "# some options to label the data (again random)\n",
    "\n",
    "# label everything '1'\n",
    "x = [1] * len(X)\n",
    "# label random 0 or 1\n",
    "x = [(1 if np.random.random() < 0.5 else 0) for _ in range(len(X))]\n",
    "# label from classes [1,2,3]\n",
    "x = [random.choice([1,2,3]) for _ in range(len(X))]\n",
    "\n",
    "clf2 = svm.SVC()\n",
    "clf2.fit(X,x)\n",
    "\n",
    "clf2.predict(Y) # should output an array filled with both 1 and 0"
   ]
  },
  {
   "cell_type": "code",
   "execution_count": null,
   "metadata": {},
   "outputs": [],
   "source": []
  },
  {
   "cell_type": "code",
   "execution_count": null,
   "metadata": {},
   "outputs": [],
   "source": []
  },
  {
   "cell_type": "code",
   "execution_count": null,
   "metadata": {},
   "outputs": [],
   "source": []
  },
  {
   "cell_type": "code",
   "execution_count": null,
   "metadata": {},
   "outputs": [],
   "source": []
  }
 ],
 "metadata": {
  "kernelspec": {
   "display_name": "Python 3",
   "language": "python",
   "name": "python3"
  },
  "language_info": {
   "codemirror_mode": {
    "name": "ipython",
    "version": 3
   },
   "file_extension": ".py",
   "mimetype": "text/x-python",
   "name": "python",
   "nbconvert_exporter": "python",
   "pygments_lexer": "ipython3",
   "version": "3.6.4"
  }
 },
 "nbformat": 4,
 "nbformat_minor": 2
}
