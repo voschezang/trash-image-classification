{
 "cells": [
  {
   "cell_type": "code",
   "execution_count": 11,
   "metadata": {},
   "outputs": [
    {
     "name": "stdout",
     "output_type": "stream",
     "text": [
      "/Users/Tristan/Downloads/dataset-resized/cardboard/\n",
      "/Users/Tristan/Downloads/dataset-resized/glass/\n",
      "/Users/Tristan/Downloads/dataset-resized/metal/\n",
      "/Users/Tristan/Downloads/dataset-resized/paper/\n",
      "/Users/Tristan/Downloads/dataset-resized/plastic/\n",
      "/Users/Tristan/Downloads/dataset-resized/trash/\n"
     ]
    }
   ],
   "source": [
    "import csv, os\n",
    "\n",
    "labels = open('/Users/Tristan/Downloads/labels.csv', 'w')\n",
    "cardboard = '/Users/Tristan/Downloads/dataset-resized/cardboard/'\n",
    "glass = '/Users/Tristan/Downloads/dataset-resized/glass/'\n",
    "metal = '/Users/Tristan/Downloads/dataset-resized/metal/'\n",
    "paper = '/Users/Tristan/Downloads/dataset-resized/paper/'\n",
    "plastic = '/Users/Tristan/Downloads/dataset-resized/plastic/'\n",
    "trash = '/Users/Tristan/Downloads/dataset-resized/trash/'\n",
    "\n",
    "directories = [cardboard, glass, metal, paper, plastic, trash]\n",
    "label_list = ['cardboard', 'glass', 'metal', 'paper', 'plastic', 'trash']\n",
    "\n",
    "with labels:\n",
    "    writer = csv.writer(labels)\n",
    "    writer.writerow(['id', 'label'])\n",
    "\n",
    "    count = 0\n",
    "    for directory in directories:\n",
    "        print(directory)\n",
    "        for filename in os.listdir(directory):\n",
    "            if filename.endswith(\".jpg\"): \n",
    "                data = [filename, label_list[count]]\n",
    "                \n",
    "                writer.writerow(data)\n",
    "                \n",
    "        count+=1"
   ]
  },
  {
   "cell_type": "code",
   "execution_count": 12,
   "metadata": {},
   "outputs": [
    {
     "name": "stdout",
     "output_type": "stream",
     "text": [
      "/Users/Tristan/Downloads/dataset-resized/cardboard/\n",
      "/Users/Tristan/Downloads/dataset-resized/glass/\n",
      "/Users/Tristan/Downloads/dataset-resized/metal/\n",
      "/Users/Tristan/Downloads/dataset-resized/paper/\n",
      "/Users/Tristan/Downloads/dataset-resized/plastic/\n",
      "/Users/Tristan/Downloads/dataset-resized/trash/\n"
     ]
    }
   ],
   "source": [
    "directory_list = ['/Users/Tristan/Downloads/dataset-resized/cardboard/',\n",
    "                '/Users/Tristan/Downloads/dataset-resized/glass/',\n",
    "                '/Users/Tristan/Downloads/dataset-resized/metal/',\n",
    "                '/Users/Tristan/Downloads/dataset-resized/paper/',\n",
    "                '/Users/Tristan/Downloads/dataset-resized/plastic/',\n",
    "                '/Users/Tristan/Downloads/dataset-resized/trash/']\n",
    "count = 0\n",
    "for directory in directories:\n",
    "        print(directory)\n",
    "        for filename in os.listdir(directory)[0:60]:\n",
    "            os.rename(directory_list[count] + filename, '/Users/Tristan/Downloads/dataset-resized/test/' + filename)\n",
    "        count += 1"
   ]
  },
  {
   "cell_type": "code",
   "execution_count": 13,
   "metadata": {},
   "outputs": [
    {
     "name": "stdout",
     "output_type": "stream",
     "text": [
      "/Users/Tristan/Downloads/dataset-resized/cardboard/\n",
      "/Users/Tristan/Downloads/dataset-resized/glass/\n",
      "/Users/Tristan/Downloads/dataset-resized/metal/\n",
      "/Users/Tristan/Downloads/dataset-resized/paper/\n",
      "/Users/Tristan/Downloads/dataset-resized/plastic/\n",
      "/Users/Tristan/Downloads/dataset-resized/trash/\n"
     ]
    }
   ],
   "source": [
    "count = 0\n",
    "for directory in directories:\n",
    "        print(directory)\n",
    "        for filename in os.listdir(directory)[0:30]:\n",
    "            os.rename(directory_list[count] + filename, '/Users/Tristan/Downloads/dataset-resized/validation/' + filename)\n",
    "        count += 1"
   ]
  },
  {
   "cell_type": "code",
   "execution_count": 14,
   "metadata": {},
   "outputs": [
    {
     "name": "stdout",
     "output_type": "stream",
     "text": [
      "/Users/Tristan/Downloads/dataset-resized/cardboard/\n",
      "/Users/Tristan/Downloads/dataset-resized/glass/\n",
      "/Users/Tristan/Downloads/dataset-resized/metal/\n",
      "/Users/Tristan/Downloads/dataset-resized/paper/\n",
      "/Users/Tristan/Downloads/dataset-resized/plastic/\n",
      "/Users/Tristan/Downloads/dataset-resized/trash/\n"
     ]
    }
   ],
   "source": [
    "count = 0\n",
    "for directory in directories:\n",
    "        print(directory)\n",
    "        for filename in os.listdir(directory):\n",
    "            os.rename(directory_list[count] + filename, '/Users/Tristan/Downloads/dataset-resized/train/' + filename)\n",
    "        count += 1"
   ]
  },
  {
   "cell_type": "code",
   "execution_count": null,
   "metadata": {},
   "outputs": [],
   "source": []
  }
 ],
 "metadata": {
  "kernelspec": {
   "display_name": "Python 3",
   "language": "python",
   "name": "python3"
  },
  "language_info": {
   "codemirror_mode": {
    "name": "ipython",
    "version": 3
   },
   "file_extension": ".py",
   "mimetype": "text/x-python",
   "name": "python",
   "nbconvert_exporter": "python",
   "pygments_lexer": "ipython3",
   "version": "3.6.4"
  }
 },
 "nbformat": 4,
 "nbformat_minor": 2
}
