{
 "cells": [
  {
   "cell_type": "code",
   "execution_count": null,
   "metadata": {},
   "outputs": [],
   "source": [
    "import csv, os\n",
    "\n",
    "labels = open('/Users/Tristan/Downloads/labels.csv', 'w')\n",
    "cardboard = '/Users/Tristan/Downloads/dataset-original/cardboard/'\n",
    "glass = '/Users/Tristan/Downloads/dataset-original/glass/'\n",
    "metal = '/Users/Tristan/Downloads/dataset-original/metal/'\n",
    "paper = '/Users/Tristan/Downloads/dataset-original/paper/'\n",
    "plastic = '/Users/Tristan/Downloads/dataset-original/plastic/'\n",
    "trash = '/Users/Tristan/Downloads/dataset-original/trash/'\n",
    "\n",
    "directories = [cardboard, glass, metal, paper, plastic, trash]\n",
    "label_list = ['cardboard', 'glass', 'metal', 'paper', 'plastic', 'trash']\n",
    "\n",
    "with labels:\n",
    "    writer = csv.writer(labels)\n",
    "    writer.writerow(['id', 'label'])\n",
    "\n",
    "    count = 0\n",
    "    for directory in directories:\n",
    "        print(directory)\n",
    "        for filename in os.listdir(directory):\n",
    "            if filename.endswith(\".jpg\"): \n",
    "                data = [filename, label_list[count]]\n",
    "                \n",
    "                writer.writerow(data)\n",
    "                \n",
    "        count+=1"
   ]
  },
  {
   "cell_type": "code",
   "execution_count": null,
   "metadata": {},
   "outputs": [],
   "source": [
    "directory_list = ['/Users/Tristan/Downloads/dataset-original/cardboard/',\n",
    "                '/Users/Tristan/Downloads/dataset-original/glass/',\n",
    "                '/Users/Tristan/Downloads/dataset-original/metal/',\n",
    "                '/Users/Tristan/Downloads/dataset-original/paper/',\n",
    "                '/Users/Tristan/Downloads/dataset-original/plastic/',\n",
    "                '/Users/Tristan/Downloads/dataset-original/trash/']\n",
    "count = 0\n",
    "for directory in directories:\n",
    "        print(directory)\n",
    "        for filename in os.listdir(directory)[0:100]:\n",
    "            os.rename(directory_list[count] + filename, '/Users/Tristan/Downloads/dataset-original/test/' + filename)\n",
    "        count += 1"
   ]
  },
  {
   "cell_type": "code",
   "execution_count": null,
   "metadata": {},
   "outputs": [],
   "source": [
    "count = 0\n",
    "for directory in directories:\n",
    "        print(directory)\n",
    "        for filename in os.listdir(directory):\n",
    "            os.rename(directory_list[count] + filename, '/Users/Tristan/Downloads/dataset-original/train/' + filename)\n",
    "        count += 1"
   ]
  },
  {
   "cell_type": "code",
   "execution_count": null,
   "metadata": {},
   "outputs": [],
   "source": [
    "count = 0\n",
    "for directory in directories:\n",
    "        print(directory)\n",
    "        for filename in os.listdir(directory)[0:50]:\n",
    "            os.rename(directory_list[count] + filename, '/Users/Tristan/Downloads/dataset-original/validation/' + filename)\n",
    "        count += 1"
   ]
  }
 ],
 "metadata": {
  "kernelspec": {
   "display_name": "Python 2",
   "language": "python",
   "name": "python2"
  },
  "language_info": {
   "codemirror_mode": {
    "name": "ipython",
    "version": 2
   },
   "file_extension": ".py",
   "mimetype": "text/x-python",
   "name": "python",
   "nbconvert_exporter": "python",
   "pygments_lexer": "ipython2",
   "version": "2.7.14"
  }
 },
 "nbformat": 4,
 "nbformat_minor": 2
}
