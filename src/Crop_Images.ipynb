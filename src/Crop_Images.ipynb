{
 "cells": [
  {
   "cell_type": "markdown",
   "metadata": {},
   "source": [
    "### Crop Image's"
   ]
  },
  {
   "cell_type": "code",
   "execution_count": 99,
   "metadata": {
    "collapsed": true
   },
   "outputs": [],
   "source": [
    "import os, sklearn, pandas, numpy as np\n",
    "from sklearn import svm\n",
    "import skimage\n",
    "from skimage import io, filters\n",
    "from utils import utils # custom functions, in local environment\n",
    "import matplotlib.pyplot as plt\n",
    "%matplotlib inline\n",
    "import config # params, constants\n",
    "import data # functions that mutate our data"
   ]
  },
  {
   "cell_type": "code",
   "execution_count": 145,
   "metadata": {},
   "outputs": [],
   "source": [
    "# Import train+test data\n",
    "img_dir = config.dataset_dir + 'train/'\n",
    "img_list = dataset.train # ignore the test images for now\n",
    "img_name = img_list[0]\n",
    "img = data.read_img('train/',img_name)"
   ]
  },
  {
   "cell_type": "code",
   "execution_count": 107,
   "metadata": {
    "collapsed": true
   },
   "outputs": [],
   "source": [
    "# function to crop the image to the center of image. \n",
    "def crop_center(img):\n",
    "    cropx = 97\n",
    "    cropy = 102\n",
    "    y,x,z = img.shape\n",
    "    startx = x//2-(cropx//2)\n",
    "    starty = y//2-(cropy//2)  \n",
    "    return img[starty:starty+cropy,startx:startx+cropx]"
   ]
  },
  {
   "cell_type": "code",
   "execution_count": 137,
   "metadata": {
    "collapsed": true
   },
   "outputs": [],
   "source": [
    "# function to crop the image to one of the corners of the image. \n",
    "def crop_corner(img, corner):\n",
    "    y,x,z = img.shape\n",
    "    cropx = 97\n",
    "    cropy = 102\n",
    "    if corner == 'top_left':\n",
    "        startx = 0\n",
    "        starty = 0\n",
    "    elif corner == 'top_right':\n",
    "        startx = x - cropx\n",
    "        starty = 0\n",
    "    elif corner == 'bottom_left':\n",
    "        startx = 0\n",
    "        starty = y - cropy\n",
    "    elif corner == 'bottom_right':\n",
    "        startx = x - cropx\n",
    "        starty = y - cropy\n",
    "            \n",
    "    return img[starty:starty+cropy,startx:startx+cropx]"
   ]
  },
  {
   "cell_type": "code",
   "execution_count": 155,
   "metadata": {
    "collapsed": true
   },
   "outputs": [],
   "source": [
    "def crop_all_corners(img):\n",
    "    img_1 = crop_corner(img, 'top_left')\n",
    "    img_2 = crop_corner(img, 'top_right')\n",
    "    img_3 = crop_corner(img, 'bottom_left')\n",
    "    img_4 = crop_corner(img, 'bottom_right')\n",
    "    return img_1, img_2, img_3, img_4"
   ]
  },
  {
   "cell_type": "code",
   "execution_count": 96,
   "metadata": {},
   "outputs": [],
   "source": [
    "# function to find the smallest x and y value of all images,\n",
    "# center crop function is now set to crop always to the smallest values. \n",
    "def find_smallest_x_y(img_list):\n",
    "    smallest_y = 1000\n",
    "    smallest_x = 1000\n",
    "    for img_name in img_list:\n",
    "        img = data.read_img('train/',img_name)\n",
    "        if img.shape[0] < smallest_y:\n",
    "            smallest_y = img.shape[0]\n",
    "        if img.shape[1] < smallest_x:\n",
    "            smallest_x = img.shape[1]\n",
    "    return smallest_y, smallest_x"
   ]
  },
  {
   "cell_type": "code",
   "execution_count": 97,
   "metadata": {},
   "outputs": [
    {
     "data": {
      "text/plain": [
       "(102, 97)"
      ]
     },
     "execution_count": 97,
     "metadata": {},
     "output_type": "execute_result"
    }
   ],
   "source": [
    "find_smallest_x_y(img_list)"
   ]
  },
  {
   "cell_type": "code",
   "execution_count": 135,
   "metadata": {},
   "outputs": [],
   "source": [
    "# np.pad is a function to add padding to an image, i was intending to use this to fill the missing part of the smaller \n",
    "# images with white or black, but it doesn't seem to work. Don't know if we still want to use it so...\n",
    "\n",
    "# np.pad(img, (100,100), 'constant', constant_values=(0,0))"
   ]
  }
 ],
 "metadata": {
  "kernelspec": {
   "display_name": "Python 3",
   "language": "python",
   "name": "python3"
  },
  "language_info": {
   "codemirror_mode": {
    "name": "ipython",
    "version": 3
   },
   "file_extension": ".py",
   "mimetype": "text/x-python",
   "name": "python",
   "nbconvert_exporter": "python",
   "pygments_lexer": "ipython3",
   "version": "3.6.1"
  }
 },
 "nbformat": 4,
 "nbformat_minor": 2
}
