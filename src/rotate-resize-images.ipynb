{
 "cells": [
  {
   "cell_type": "code",
   "execution_count": 1,
   "metadata": {
    "collapsed": true
   },
   "outputs": [],
   "source": [
    "import PIL\n",
    "from PIL import Image"
   ]
  },
  {
   "cell_type": "code",
   "execution_count": 2,
   "metadata": {},
   "outputs": [
    {
     "name": "stdout",
     "output_type": "stream",
     "text": [
      " Dataset :: namedtuple(\n",
      "    ['train' = ['img_name']\n",
      "    , 'test' = ['img_name']\n",
      "    , 'labels' = pandas.df('img_name','breed')\n",
      "    , 'dict_index_to_label' = dict to convert label_index -> label_name\n",
      "    , 'dict_label_to_index'= dict to convert label_name -> label_index\n",
      "    \n"
     ]
    }
   ],
   "source": [
    "import data # src/data.py\n",
    "dataset = data.init_dataset()"
   ]
  },
  {
   "cell_type": "code",
   "execution_count": 76,
   "metadata": {},
   "outputs": [],
   "source": [
    "img_list = dataset.train \n",
    "img_list = img_list[0:100]"
   ]
  },
  {
   "cell_type": "code",
   "execution_count": 77,
   "metadata": {
    "collapsed": true
   },
   "outputs": [],
   "source": [
    "def rotate_resize_images(img_list):\n",
    "    path = 'datasets/train/';\n",
    "    degrees = [-45, -35, -25, -15, -5, 0, 5, 15, 25, 35, 45];\n",
    "    for file_name in img_list:\n",
    "        file = path+file_name;\n",
    "        image = Image.open(file);\n",
    "        for degree in degrees:\n",
    "            image_rotaded = image.rotate(degree);\n",
    "            image_resized = image_rotaded.resize((443,386), resample = PIL.Image.BILINEAR);\n",
    "            image_rotaded.close;\n",
    "            image_resized.save('./datasets/train_new/'+str(degree)+'_'+file_name, 'JPEG');\n",
    "            image_resized.close;\n",
    "        image.close;"
   ]
  },
  {
   "cell_type": "code",
   "execution_count": 78,
   "metadata": {},
   "outputs": [],
   "source": [
    "rotate_resize_images(img_list)"
   ]
  }
 ],
 "metadata": {
  "kernelspec": {
   "display_name": "Python 3",
   "language": "python",
   "name": "python3"
  },
  "language_info": {
   "codemirror_mode": {
    "name": "ipython",
    "version": 3
   },
   "file_extension": ".py",
   "mimetype": "text/x-python",
   "name": "python",
   "nbconvert_exporter": "python",
   "pygments_lexer": "ipython3",
   "version": "3.6.4"
  }
 },
 "nbformat": 4,
 "nbformat_minor": 2
}
