{
 "cells": [
  {
   "cell_type": "markdown",
   "metadata": {},
   "source": [
    "# Setup / todo\n",
    "- rmv human faces\n",
    "- crop images (wacht op rens)\n",
    "- split training+test sets\n",
    "  - folders for evey breed: train_/breed1/img.png, test_/breed1/img.png\n",
    "- run models on 2 or 3 classes (proof of concept)\n",
    "\n",
    "### Extra\n",
    "- add negative training data\n",
    "  - random noise (not very usefull)\n",
    "  - shuffled pixels\n",
    "\n",
    "### Advanced\n",
    "- crop images (random) -> unsupervised learning -> split sub-images, classify them by average label (if certainty = high)\n",
    "  - use blob/edge detection to crop images to reach higher score\n",
    "  - use this as a second classification algorithm\n",
    "- autoencoder model"
   ]
  },
  {
   "cell_type": "code",
   "execution_count": 4,
   "metadata": {},
   "outputs": [],
   "source": [
    "import os, sklearn, pandas, numpy as np\n",
    "from sklearn import svm\n",
    "import skimage\n",
    "from skimage import io, filters\n",
    "from utils import utils # custom functions, in local environment\n",
    "import matplotlib.pyplot as plt\n",
    "%matplotlib inline\n",
    "import config # params, constants\n",
    "import data # functions that mutate our data"
   ]
  },
  {
   "cell_type": "code",
   "execution_count": 5,
   "metadata": {},
   "outputs": [],
   "source": [
    "import data # src/data.py\n",
    "dataset = data.init_dataset()"
   ]
  },
  {
   "cell_type": "code",
   "execution_count": 6,
   "metadata": {},
   "outputs": [],
   "source": [
    "# see nn/n-sequential-conv"
   ]
  },
  {
   "cell_type": "code",
   "execution_count": null,
   "metadata": {},
   "outputs": [],
   "source": []
  }
 ],
 "metadata": {
  "kernelspec": {
   "display_name": "Python 3",
   "language": "python",
   "name": "python3"
  },
  "language_info": {
   "codemirror_mode": {
    "name": "ipython",
    "version": 3
   },
   "file_extension": ".py",
   "mimetype": "text/x-python",
   "name": "python",
   "nbconvert_exporter": "python",
   "pygments_lexer": "ipython3",
   "version": "3.6.4"
  }
 },
 "nbformat": 4,
 "nbformat_minor": 2
}
