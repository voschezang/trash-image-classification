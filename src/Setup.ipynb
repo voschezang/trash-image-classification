{
 "cells": [
  {
   "cell_type": "markdown",
   "metadata": {},
   "source": [
    "# Setup / todo\n",
    "- rmv human faces\n",
    "- crop images (wacht op rens)\n",
    "- split training+test sets\n",
    "  - folders for evey breed: train_/breed1/img.png, test_/breed1/img.png\n",
    "\n",
    "### Extra\n",
    "- add negative training data\n",
    "  - random noise (not very usefull)\n",
    "  - shuffled pixels\n",
    "\n",
    "### Advanced\n",
    "- crop images (random) -> unsupervised learning -> split sub-images, classify them by average label (if certainty = high)\n",
    "  - use blob/edge detection to crop images to reach higher score\n",
    "  - use this as a second classification algorithm"
   ]
  },
  {
   "cell_type": "code",
   "execution_count": null,
   "metadata": {},
   "outputs": [],
   "source": []
  }
 ],
 "metadata": {
  "kernelspec": {
   "display_name": "Python 3",
   "language": "python",
   "name": "python3"
  },
  "language_info": {
   "codemirror_mode": {
    "name": "ipython",
    "version": 3
   },
   "file_extension": ".py",
   "mimetype": "text/x-python",
   "name": "python",
   "nbconvert_exporter": "python",
   "pygments_lexer": "ipython3",
   "version": "3.6.4"
  }
 },
 "nbformat": 4,
 "nbformat_minor": 2
}
