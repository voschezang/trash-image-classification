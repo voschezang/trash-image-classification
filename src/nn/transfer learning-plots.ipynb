{
 "cells": [
  {
   "cell_type": "code",
   "execution_count": 1,
   "metadata": {},
   "outputs": [
    {
     "name": "stderr",
     "output_type": "stream",
     "text": [
      "/Library/Frameworks/Python.framework/Versions/3.6/lib/python3.6/site-packages/h5py/__init__.py:36: FutureWarning: Conversion of the second argument of issubdtype from `float` to `np.floating` is deprecated. In future, it will be treated as `np.float64 == np.dtype(float).type`.\n",
      "  from ._conv import register_converters as _register_converters\n",
      "Using TensorFlow backend.\n"
     ]
    }
   ],
   "source": [
    "from keras import applications\n",
    "from keras.preprocessing.image import ImageDataGenerator\n",
    "from keras import optimizers\n",
    "from keras.models import Sequential\n",
    "from keras.layers import Dropout, Flatten, Dense\n",
    "from keras.models import model_from_json\n",
    "import os, sklearn, pandas, numpy as np, random\n",
    "from sklearn import svm\n",
    "import skimage, skimage.io, skimage.filters\n",
    "import matplotlib.pyplot as plt\n",
    "from keras.callbacks import TensorBoard\n",
    "from sklearn.utils import shuffle\n",
    "import imp\n",
    "from sklearn.preprocessing import LabelBinarizer\n",
    "# from pcanet import PCANet\n",
    "from pcanet import PCANet\n",
    "import numpy as np\n",
    "%matplotlib inline"
   ]
  },
  {
   "cell_type": "code",
   "execution_count": null,
   "metadata": {},
   "outputs": [],
   "source": []
  },
  {
   "cell_type": "code",
   "execution_count": 2,
   "metadata": {},
   "outputs": [
    {
     "data": {
      "text/plain": [
       "'/Users/mark/src/dog-breed-identification/src'"
      ]
     },
     "execution_count": 2,
     "metadata": {},
     "output_type": "execute_result"
    }
   ],
   "source": [
    "# set cwd back to default\n",
    "os.chdir('../')\n",
    "os.getcwd()"
   ]
  },
  {
   "cell_type": "code",
   "execution_count": 6,
   "metadata": {},
   "outputs": [],
   "source": [
    "# custom scripts\n",
    "import config # params, constants\n",
    "import data, models # functions that mutate outr data\n",
    "# from utils import utils, plot # custom functions, in local environment"
   ]
  },
  {
   "cell_type": "code",
   "execution_count": 7,
   "metadata": {},
   "outputs": [],
   "source": [
    "import data # src/data.py\n",
    "dataset = data.init_dataset()"
   ]
  },
  {
   "cell_type": "code",
   "execution_count": 12,
   "metadata": {},
   "outputs": [
    {
     "data": {
      "text/plain": [
       "['cnn_transfer',\n",
       " 'cnntransfer.json',\n",
       " 'cnntransfer2.json',\n",
       " 'cnntransfer_augm.json',\n",
       " 'cnntransfer_augm2.json',\n",
       " 'cnntransferweights.h5',\n",
       " 'cnntransferweights2.h5',\n",
       " 'cnntransferweights_augmen.h5',\n",
       " 'cnntransferweights_augmen2.h5']"
      ]
     },
     "execution_count": 12,
     "metadata": {},
     "output_type": "execute_result"
    }
   ],
   "source": [
    "os.listdir('../datasets/models')"
   ]
  },
  {
   "cell_type": "markdown",
   "metadata": {},
   "source": [
    "### load a model"
   ]
  },
  {
   "cell_type": "code",
   "execution_count": 13,
   "metadata": {},
   "outputs": [],
   "source": [
    "# load json and create model\n",
    "# load json and create model\n",
    "def load_model(filename, weights):\n",
    "    with open(filename, 'r') as json: # cnn_transfer_augm\n",
    "        loaded_model_json = json.read()\n",
    "    loaded_model = model_from_json(loaded_model_json)\n",
    "    # load weights into new model\n",
    "    loaded_model.load_weights(weights)\n",
    "    print(\"Loaded model from disk\")\n",
    "    optimizer = optimizers.Adam(lr=0.001)\n",
    "    loaded_model.compile(loss = \"categorical_crossentropy\", optimizer = optimizer, metrics=['accuracy',\n",
    "        'mean_squared_error','categorical_crossentropy','top_k_categorical_accuracy'])\n",
    "    print('compiled model')\n",
    "    return loaded_model"
   ]
  },
  {
   "cell_type": "code",
   "execution_count": 14,
   "metadata": {},
   "outputs": [
    {
     "name": "stdout",
     "output_type": "stream",
     "text": [
      "Loaded model from disk\n",
      "compiled model\n",
      "Loaded model from disk\n",
      "compiled model\n"
     ]
    }
   ],
   "source": [
    "model_augment = config.dataset_dir + 'models/cnntransfer_augm.json'\n",
    "model_augment_weights = config.dataset_dir + 'models/cnntransferweights_augmen.h5'\n",
    "model_default = config.dataset_dir + 'models/cnntransfer.json'\n",
    "model_default_weights = config.dataset_dir + 'models/cnntransferweights.h5'\n",
    "\n",
    "# augment = load_model(model_augment, model_augment_weights)\n",
    "default = load_model(model_default, model_default_weights)\n",
    "augment = load_model(model_augment, model_augment_weights)"
   ]
  },
  {
   "cell_type": "code",
   "execution_count": 15,
   "metadata": {},
   "outputs": [
    {
     "data": {
      "text/plain": [
       "['paper', 'glass', 'plastic', 'metal', 'cardboard']"
      ]
     },
     "execution_count": 15,
     "metadata": {},
     "output_type": "execute_result"
    }
   ],
   "source": [
    "# pick the n classes with the most occuring instances\n",
    "amt = 5\n",
    "classes = data.top_classes(dataset.labels, amt)\n",
    "classes"
   ]
  },
  {
   "cell_type": "code",
   "execution_count": 16,
   "metadata": {},
   "outputs": [
    {
     "data": {
      "text/plain": [
       "100"
      ]
     },
     "execution_count": 16,
     "metadata": {},
     "output_type": "execute_result"
    }
   ],
   "source": [
    "maxx = 100\n",
    "max_train = 100\n",
    "x_test, n = data.extract_topx_classes(dataset, classes, 'test', maxx, max_train)\n",
    "n"
   ]
  },
  {
   "cell_type": "code",
   "execution_count": 17,
   "metadata": {},
   "outputs": [
    {
     "name": "stdout",
     "output_type": "stream",
     "text": [
      "extract all data: 500\n"
     ]
    }
   ],
   "source": [
    "x_test, y_test, n = data.extract_all_test(dataset, x_test)"
   ]
  },
  {
   "cell_type": "code",
   "execution_count": 18,
   "metadata": {},
   "outputs": [
    {
     "data": {
      "text/plain": [
       "5"
      ]
     },
     "execution_count": 18,
     "metadata": {},
     "output_type": "execute_result"
    }
   ],
   "source": [
    "# y_train, y_test, y_validation = data.labels_to_vectors(dataset, y_train, y_test, y_validation)\n",
    "y_test = data.one_hot(y_test)\n",
    "input_shape = y_test.shape[1:] # = shape of an individual image (matrix)\n",
    "output_length = (y_test[0]).shape[0] # = length of an individual label\n",
    "output_length"
   ]
  },
  {
   "cell_type": "markdown",
   "metadata": {},
   "source": [
    "## running tests\n"
   ]
  },
  {
   "cell_type": "code",
   "execution_count": 89,
   "metadata": {},
   "outputs": [],
   "source": [
    "# import sklearn.metrics.confusion_matrix\n",
    "\n",
    "def evaluate(model):\n",
    "    cvscores = []\n",
    "    scores = model.evaluate(x_test, y_test, verbose=0)\n",
    "    print(\"%s: %.2f%%\" % (model.metrics_names[1], scores[1]*100))\n",
    "    cvscores.append(scores[1] * 100)\n",
    "    print(\"%.2f%% (+/- %.2f%%)\" % (np.mean(cvscores), np.std(cvscores)))\n",
    "\n",
    "# evaluate(model_final_augmentation)"
   ]
  },
  {
   "cell_type": "code",
   "execution_count": 97,
   "metadata": {},
   "outputs": [],
   "source": [
    "import tensorflow as tf\n",
    "from sklearn.metrics import confusion_matrix\n",
    "\n",
    "def test1(model, x_test, y_test):\n",
    "    y_pred_class = model.predict(x_test)\n",
    "    # con = tf.confusion_matrix(labels=y_test, predictions=y_pred_class )\n",
    "    # print(con)\n",
    "\n",
    "    y_test_non_category = [ np.argmax(t) for t in y_test ]\n",
    "    y_predict_non_category = [ np.argmax(t) for t in y_pred_class ]\n",
    "\n",
    "\n",
    "    conf_mat = confusion_matrix(y_test_non_category, y_predict_non_category)\n",
    "    print(conf_mat)\n",
    "    return conf_mat"
   ]
  },
  {
   "cell_type": "code",
   "execution_count": 100,
   "metadata": {},
   "outputs": [
    {
     "name": "stdout",
     "output_type": "stream",
     "text": [
      "[[60  3  1 25 11]\n",
      " [ 0 85  2  0 13]\n",
      " [ 0  8 76  0 16]\n",
      " [ 0  2  0 96  2]\n",
      " [ 0  3  0  2 95]]\n"
     ]
    }
   ],
   "source": [
    "c1 = test1(default, x_test, y_test)"
   ]
  },
  {
   "cell_type": "code",
   "execution_count": 103,
   "metadata": {},
   "outputs": [
    {
     "name": "stdout",
     "output_type": "stream",
     "text": [
      "[[ 3  2  5 85  5]\n",
      " [ 0 76 19  2  3]\n",
      " [ 0 13 72  9  6]\n",
      " [ 0  0  2 95  3]\n",
      " [ 0 36 22  5 37]]\n"
     ]
    }
   ],
   "source": [
    "c2 = test1(augment, x_test, y_test)"
   ]
  },
  {
   "cell_type": "code",
   "execution_count": 25,
   "metadata": {},
   "outputs": [],
   "source": [
    "# http://scikit-learn.org/stable/auto_examples/model_selection/plot_confusion_matrix.html\n",
    "# comparable but different from: mlxtend.plotting.plot_confusion_matrix\n",
    "import itertools\n",
    "import numpy as np\n",
    "import matplotlib.pyplot as plt\n",
    "\n",
    "from sklearn import svm, datasets\n",
    "from sklearn.model_selection import train_test_split\n",
    "from sklearn.metrics import confusion_matrix\n",
    "\n",
    "# import some data to play with\n",
    "iris = datasets.load_iris()\n",
    "X = iris.data\n",
    "y = iris.target\n",
    "class_names = iris.target_names\n",
    "\n",
    "# Split the data into a training set and a test set\n",
    "X_train, X_test, y_train, y_test = train_test_split(X, y, random_state=0)\n",
    "\n",
    "# Run classifier, using a model that is too regularized (C too low) to see\n",
    "# the impact on the results\n",
    "classifier = svm.SVC(kernel='linear', C=0.01)\n",
    "y_pred = classifier.fit(X_train, y_train).predict(X_test)\n",
    "\n",
    "\n",
    "def plot_confusion_matrix(cm, classes,\n",
    "                          normalize=False,\n",
    "                          title='Confusion matrix',\n",
    "                          cmap=plt.cm.Blues):\n",
    "    \"\"\"\n",
    "    This function prints and plots the confusion matrix.\n",
    "    Normalization can be applied by setting `normalize=True`.\n",
    "    \"\"\"\n",
    "    if normalize:\n",
    "        cm = cm.astype('float') / cm.sum(axis=1)[:, np.newaxis]\n",
    "        print(\"Normalized confusion matrix\")\n",
    "    else:\n",
    "        print('Confusion matrix, without normalization')\n",
    "\n",
    "    print(cm)\n",
    "\n",
    "    plt.imshow(cm, interpolation='nearest', cmap=cmap)\n",
    "    plt.title(title)\n",
    "    plt.colorbar()\n",
    "    tick_marks = np.arange(len(classes))\n",
    "    plt.xticks(tick_marks, classes, rotation=45)\n",
    "    plt.yticks(tick_marks, classes)\n",
    "\n",
    "    fmt = '.2f' if normalize else 'd'\n",
    "    thresh = cm.max() / 2.\n",
    "    for i, j in itertools.product(range(cm.shape[0]), range(cm.shape[1])):\n",
    "        plt.text(j, i, format(cm[i, j], fmt),\n",
    "                 horizontalalignment=\"center\",\n",
    "                 color=\"white\" if cm[i, j] > thresh else \"black\")\n",
    "\n",
    "    plt.tight_layout()\n",
    "    plt.ylabel('True label')\n",
    "    plt.xlabel('Predicted label')"
   ]
  },
  {
   "cell_type": "code",
   "execution_count": 19,
   "metadata": {},
   "outputs": [],
   "source": [
    "labels = np.array(['Glass','Paper','Cardboard','Plastic','Metal'])\n",
    "labels = np.array(['Paper', 'Glass', 'Plastic', 'Metal', 'Cardboard'])"
   ]
  },
  {
   "cell_type": "code",
   "execution_count": 44,
   "metadata": {},
   "outputs": [],
   "source": [
    "from matplotlib import rcParams\n",
    "rcParams['font.family'] = 'sans-serif'\n",
    "rcParams['font.sans-serif'] = [\n",
    "    'Times New Roman', 'Tahoma', 'DejaVu Sans', 'Lucida Grande', 'Verdana'\n",
    "]\n",
    "rcParams['font.size'] = 12"
   ]
  },
  {
   "cell_type": "code",
   "execution_count": 45,
   "metadata": {},
   "outputs": [
    {
     "data": {
      "text/plain": [
       "array(['Paper', 'Glass', 'Plastic', 'Metal', 'Cardboard'], dtype='<U9')"
      ]
     },
     "execution_count": 45,
     "metadata": {},
     "output_type": "execute_result"
    }
   ],
   "source": [
    "labels"
   ]
  },
  {
   "cell_type": "code",
   "execution_count": 46,
   "metadata": {},
   "outputs": [],
   "source": [
    "c_ = c1"
   ]
  },
  {
   "cell_type": "code",
   "execution_count": 47,
   "metadata": {},
   "outputs": [],
   "source": [
    "c1 = np.array([[29,  1,  1, 24,  5],\n",
    " [ 0, 41,  2,  1, 16],\n",
    " [ 0, 11, 34,  1, 14],\n",
    " [ 0,  0,  0, 55,  5],\n",
    " [ 0,  5,  0,  4, 51]])"
   ]
  },
  {
   "cell_type": "code",
   "execution_count": 52,
   "metadata": {},
   "outputs": [
    {
     "name": "stdout",
     "output_type": "stream",
     "text": [
      "Confusion matrix, without normalization\n",
      "[[29  1  1 24  5]\n",
      " [ 0 41  2  1 16]\n",
      " [ 0 11 34  1 14]\n",
      " [ 0  0  0 55  5]\n",
      " [ 0  5  0  4 51]]\n"
     ]
    },
    {
     "data": {
      "image/png": "[encoded data removed]",
      "text/plain": [
       "<matplotlib.figure.Figure at 0x11911aa20>"
      ]
     },
     "metadata": {},
     "output_type": "display_data"
    }
   ],
   "source": [
    "# from mlxtend.plotting import plot_confusion_matrix\n",
    "plt.figure()\n",
    "plot_confusion_matrix(c1, labels, title='Confusion matrix - default')"
   ]
  },
  {
   "cell_type": "code",
   "execution_count": 49,
   "metadata": {},
   "outputs": [],
   "source": [
    "c2 = np.array([[ 3,  2,  5, 85,  5],\n",
    " [ 0, 76, 19,  2,  3,],\n",
    " [ 0, 13, 72,  9,  6,],\n",
    " [ 0,  0,  2, 95,  3,],\n",
    " [ 0, 36, 22,  5, 37]])"
   ]
  },
  {
   "cell_type": "code",
   "execution_count": 53,
   "metadata": {},
   "outputs": [
    {
     "name": "stdout",
     "output_type": "stream",
     "text": [
      "Confusion matrix, without normalization\n",
      "[[ 3  2  5 85  5]\n",
      " [ 0 76 19  2  3]\n",
      " [ 0 13 72  9  6]\n",
      " [ 0  0  2 95  3]\n",
      " [ 0 36 22  5 37]]\n"
     ]
    },
    {
     "data": {
      "image/png": "[encoded data removed]",
      "text/plain": [
       "<matplotlib.figure.Figure at 0x118466f60>"
      ]
     },
     "metadata": {},
     "output_type": "display_data"
    }
   ],
   "source": [
    "# from mlxtend.plotting import plot_confusion_matrix\n",
    "plt.figure()\n",
    "plot_confusion_matrix(c2, labels, title='Confusion matrix - augmented')"
   ]
  },
  {
   "cell_type": "markdown",
   "metadata": {},
   "source": [
    "## T-tests\n",
    "ttest for the TP per class, between the 2 networks"
   ]
  },
  {
   "cell_type": "code",
   "execution_count": 51,
   "metadata": {},
   "outputs": [
    {
     "name": "stdout",
     "output_type": "stream",
     "text": [
      "[29 41 34 55 51]\n",
      "[ 3 76 72 95 37]\n"
     ]
    }
   ],
   "source": [
    "tp_c1 = c1.diagonal()\n",
    "tp_c2 = c2.diagonal()\n",
    "print(tp_c1)\n",
    "print(tp_c2)"
   ]
  },
  {
   "cell_type": "code",
   "execution_count": 10,
   "metadata": {},
   "outputs": [],
   "source": [
    "from utils import utils"
   ]
  },
  {
   "cell_type": "code",
   "execution_count": 11,
   "metadata": {},
   "outputs": [
    {
     "name": "stdout",
     "output_type": "stream",
     "text": [
      "RESULT - NO significant difference found\n"
     ]
    },
    {
     "data": {
      "text/plain": [
       "(False, -0.8551914997243899, 0.417319745600954)"
      ]
     },
     "execution_count": 11,
     "metadata": {},
     "output_type": "execute_result"
    }
   ],
   "source": [
    "utils.ttest(0.05, tp_c1, tp_c2)"
   ]
  },
  {
   "cell_type": "code",
   "execution_count": 13,
   "metadata": {},
   "outputs": [
    {
     "name": "stdout",
     "output_type": "stream",
     "text": [
      "RESULT - NO significant difference found\n"
     ]
    },
    {
     "data": {
      "text/plain": [
       "(False, -0.8551914997243899, 0.417319745600954)"
      ]
     },
     "execution_count": 13,
     "metadata": {},
     "output_type": "execute_result"
    }
   ],
   "source": [
    "utils.ttest(0.05, tp_c1.flatten(), tp_c2.flatten())"
   ]
  },
  {
   "cell_type": "code",
   "execution_count": 36,
   "metadata": {},
   "outputs": [],
   "source": [
    "def select_not_diagonal(arr=[]):\n",
    "    a = arr.copy()\n",
    "    np.fill_diagonal(a, -1)\n",
    "    return [x for x in list(a.flatten()) if x > -1]"
   ]
  },
  {
   "cell_type": "code",
   "execution_count": 38,
   "metadata": {},
   "outputs": [
    {
     "name": "stdout",
     "output_type": "stream",
     "text": [
      "[1, 1, 24, 5, 0, 2, 1, 16, 0, 11, 1, 14, 0, 0, 0, 5, 0, 5, 0, 4]\n",
      "[2, 5, 85, 5, 0, 19, 2, 3, 0, 13, 9, 6, 0, 0, 2, 3, 0, 36, 22, 5]\n"
     ]
    }
   ],
   "source": [
    "# everything nog at the diagonal axes is either fp or fn\n",
    "#  with fn or fp depending on the perspective (which class == p)\n",
    "c1_ = select_not_diagonal(c1)\n",
    "c2_ = select_not_diagonal(c2)\n",
    "print(c1_)\n",
    "print(c2_)"
   ]
  },
  {
   "cell_type": "code",
   "execution_count": 41,
   "metadata": {},
   "outputs": [
    {
     "name": "stdout",
     "output_type": "stream",
     "text": [
      "RESULT - NO significant difference found\n"
     ]
    },
    {
     "data": {
      "text/plain": [
       "(False, -1.3631878569954565, 0.18084635295062876)"
      ]
     },
     "execution_count": 41,
     "metadata": {},
     "output_type": "execute_result"
    }
   ],
   "source": [
    "utils.ttest(0.05, c1_, c2_)"
   ]
  },
  {
   "cell_type": "code",
   "execution_count": 80,
   "metadata": {},
   "outputs": [
    {
     "name": "stdout",
     "output_type": "stream",
     "text": [
      "c1 - no aug\n",
      "label, recall, precision\n",
      "Paper : 1.0 0.483\n",
      "Glass : 0.707 0.683\n",
      "Plastic : 0.919 0.567\n",
      "Metal : 0.647 0.917\n",
      "Cardboard : 0.56 0.85\n",
      "c2 - aug\n",
      "label, recall, precision\n",
      "Paper : 1.0 0.03\n",
      "Glass : 0.598 0.76\n",
      "Plastic : 0.6 0.72\n",
      "Metal : 0.485 0.95\n",
      "Cardboard : 0.685 0.37\n"
     ]
    }
   ],
   "source": [
    "def recall_precision(cm=[[]]):\n",
    "    print('label, recall, precision')\n",
    "    total = sum(cm.flatten())\n",
    "    for i, label in enumerate(labels):\n",
    "        # e.g. label = paper\n",
    "        true_paper = cm[i]\n",
    "        tp = cm[i][i] # upper left corner\n",
    "        fp = sum(cm[i]) - tp # upper col minus tp\n",
    "        # vertical col\n",
    "        col = [row[i] for row in cm ]\n",
    "        fn = sum(col) - tp\n",
    "        tn = total - tp - fp - fn\n",
    "        print(label, ':', round(tp * 1./ (tp + fn),3), round(tp * 1./ (tp + fp),3))\n",
    "#         print(round(tp * 1./ (tp + fp),3))\n",
    "\n",
    "\n",
    "print('c1 - no aug')        \n",
    "recall_precision(c1)\n",
    "print('c2 - aug')        \n",
    "recall_precision(c2)"
   ]
  },
  {
   "cell_type": "code",
   "execution_count": null,
   "metadata": {},
   "outputs": [],
   "source": []
  }
 ],
 "metadata": {
  "kernelspec": {
   "display_name": "Python 3",
   "language": "python",
   "name": "python3"
  },
  "language_info": {
   "codemirror_mode": {
    "name": "ipython",
    "version": 3
   },
   "file_extension": ".py",
   "mimetype": "text/x-python",
   "name": "python",
   "nbconvert_exporter": "python",
   "pygments_lexer": "ipython3",
   "version": "3.6.4"
  }
 },
 "nbformat": 4,
 "nbformat_minor": 2
}
