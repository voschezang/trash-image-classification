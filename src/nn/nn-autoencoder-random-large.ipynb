{
 "cells": [
  {
   "cell_type": "code",
   "execution_count": 1,
   "metadata": {},
   "outputs": [],
   "source": [
    "import os, sklearn, pandas, numpy as np\n",
    "from sklearn import svm\n",
    "import skimage, skimage.io, skimage.filters\n",
    "import matplotlib.pyplot as plt\n",
    "%matplotlib inline"
   ]
  },
  {
   "cell_type": "code",
   "execution_count": 2,
   "metadata": {},
   "outputs": [],
   "source": [
    "# set cwd back to default\n",
    "os.chdir('../')"
   ]
  },
  {
   "cell_type": "code",
   "execution_count": 3,
   "metadata": {},
   "outputs": [
    {
     "name": "stderr",
     "output_type": "stream",
     "text": [
      "/Library/Frameworks/Python.framework/Versions/3.6/lib/python3.6/site-packages/h5py/__init__.py:36: FutureWarning: Conversion of the second argument of issubdtype from `float` to `np.floating` is deprecated. In future, it will be treated as `np.float64 == np.dtype(float).type`.\n",
      "  from ._conv import register_converters as _register_converters\n",
      "Using TensorFlow backend.\n"
     ]
    }
   ],
   "source": [
    "## NN libs\n",
    "import keras\n",
    "from keras.layers import Dense, Activation\n",
    "from keras.utils import to_categorical\n",
    "from keras.optimizers import SGD, Adam\n",
    "from keras.layers import Input, Conv2D, Conv2DTranspose, Dense, Reshape, MaxPooling2D, UpSampling2D, Flatten\n",
    "from keras.models import Model\n",
    "from sklearn import preprocessing\n",
    "from sklearn.preprocessing import normalize"
   ]
  },
  {
   "cell_type": "code",
   "execution_count": 4,
   "metadata": {},
   "outputs": [
    {
     "name": "stdout",
     "output_type": "stream",
     "text": [
      " Dataset :: namedtuple(\n",
      "    ['train' = ['img_name']\n",
      "    , 'test' = ['img_name']\n",
      "    , 'validation' = ['img_name']\n",
      "    , 'labels' = pandas.df('img_name','label')\n",
      "    , 'dict_index_to_label' = dict to convert label_index -> label_name\n",
      "    , 'dict_label_to_index'= dict to convert label_name -> label_index\n",
      "    \n"
     ]
    }
   ],
   "source": [
    "# custom scripts\n",
    "import config # params, constants\n",
    "import data, models # functions that mutate outr data\n",
    "from utils import utils, plot # custom functions, in local environment"
   ]
  },
  {
   "cell_type": "markdown",
   "metadata": {},
   "source": [
    "## 2D decoder"
   ]
  },
  {
   "cell_type": "code",
   "execution_count": 5,
   "metadata": {},
   "outputs": [],
   "source": [
    "# input length controls the complexity of the final distribution\n",
    "# higher input values result in a more normal output distribution and a more circular graph\n",
    "input_length = 2 \n",
    "input_shape = (input_length,)\n",
    "w = 100 # width of the network\n",
    "k_init = 'glorot_normal' # random_uniform glorot_normal\n",
    "b_init = 'glorot_normal'"
   ]
  },
  {
   "cell_type": "code",
   "execution_count": 6,
   "metadata": {},
   "outputs": [
    {
     "name": "stdout",
     "output_type": "stream",
     "text": [
      "_________________________________________________________________\n",
      "Layer (type)                 Output Shape              Param #   \n",
      "=================================================================\n",
      "input_1 (InputLayer)         (None, 2)                 0         \n",
      "_________________________________________________________________\n",
      "dense_1 (Dense)              (None, 100)               300       \n",
      "_________________________________________________________________\n",
      "dense_2 (Dense)              (None, 100)               10100     \n",
      "_________________________________________________________________\n",
      "dense_3 (Dense)              (None, 100)               10100     \n",
      "_________________________________________________________________\n",
      "dense_4 (Dense)              (None, 100)               10100     \n",
      "_________________________________________________________________\n",
      "dense_5 (Dense)              (None, 100)               10100     \n",
      "_________________________________________________________________\n",
      "dense_6 (Dense)              (None, 100)               10100     \n",
      "_________________________________________________________________\n",
      "dense_7 (Dense)              (None, 100)               10100     \n",
      "_________________________________________________________________\n",
      "dense_8 (Dense)              (None, 100)               10100     \n",
      "_________________________________________________________________\n",
      "dense_9 (Dense)              (None, 100)               10100     \n",
      "_________________________________________________________________\n",
      "dense_10 (Dense)             (None, 100)               10100     \n",
      "_________________________________________________________________\n",
      "dense_11 (Dense)             (None, 100)               10100     \n",
      "_________________________________________________________________\n",
      "dense_12 (Dense)             (None, 2)                 202       \n",
      "=================================================================\n",
      "Total params: 101,502\n",
      "Trainable params: 101,502\n",
      "Non-trainable params: 0\n",
      "_________________________________________________________________\n"
     ]
    }
   ],
   "source": [
    "input_ = Input(shape=input_shape)\n",
    "x = Dense(w, activation='relu')(input_) # (None, 128)\n",
    "for i in range(10):\n",
    "    x = Dense(w, activation='relu', kernel_initializer=k_init, bias_initializer=b_init)(x) # (None, 128)\n",
    "# for i in range(10):\n",
    "# x = Reshape(x)\n",
    "# x = keras.layers.UpSampling1D(())(x)\n",
    "    #     x = Conv2D(3, (3, 3), activation='relu')(x)\n",
    "\n",
    "\n",
    "# x = Reshape((4,4,8))(x) # (None, 4, 4, 8)  \n",
    "# x = UpSampling2D((8, 8))(x) # (None, 32, 32, 8)\n",
    "# x = Conv2D(4, (8, 8), activation='relu')(x) # (None, 25, 25, 4)\n",
    "# x = UpSampling2D((2, 2))(x) # (None, 100, 100, 4)\n",
    "# x = Conv2D(3, (1, 1), activation='relu')(x) # (None, 50, 50, 3) \n",
    "\n",
    "n_colors = 3\n",
    "output_w = 300\n",
    "output_h = 200\n",
    "n_outputs = output_h * output_w * n_colors\n",
    "output_shape = (output_h, output_w, n_colors)\n",
    "# print('output_shape:', output_shape)\n",
    "# resized = Dense(n_outputs, activation='sigmoid')(x)\n",
    "# x = Reshape(output_shape)(resized)\n",
    "x = Dense(2,activation='sigmoid')(x)\n",
    "\n",
    "decoder = Model(input_, x)\n",
    "decoder.summary()"
   ]
  },
  {
   "cell_type": "code",
   "execution_count": 7,
   "metadata": {},
   "outputs": [],
   "source": [
    "decoder.compile(optimizer='adam', loss='categorical_crossentropy')"
   ]
  },
  {
   "cell_type": "code",
   "execution_count": 8,
   "metadata": {},
   "outputs": [],
   "source": [
    "n = 1000 * 100\n",
    "x_test = np.random.random([n,input_length])\n",
    "# samples = np.stack([sample])\n",
    "y_test = decoder.predict(x_test)"
   ]
  },
  {
   "cell_type": "code",
   "execution_count": 9,
   "metadata": {},
   "outputs": [
    {
     "name": "stdout",
     "output_type": "stream",
     "text": [
      "(100000, 2)\n",
      "0.57258856 0.5386357\n"
     ]
    }
   ],
   "source": [
    "print(y_test.shape)\n",
    "print(y_test.max(), y_test.min())"
   ]
  },
  {
   "cell_type": "code",
   "execution_count": 10,
   "metadata": {},
   "outputs": [],
   "source": [
    "# TODO use sklearn.preprocessing.normalize(axis=0) # to normalize each feature\n",
    "def normalize2D(y_test):\n",
    "    maxx = y_test.max()\n",
    "    minn = y_test.min()\n",
    "    return (y_test.copy() - minn) / (maxx - minn)"
   ]
  },
  {
   "cell_type": "code",
   "execution_count": 11,
   "metadata": {},
   "outputs": [],
   "source": [
    "normalized = normalize2D(y_test)"
   ]
  },
  {
   "cell_type": "code",
   "execution_count": 12,
   "metadata": {},
   "outputs": [
    {
     "data": {
      "text/plain": [
       "<matplotlib.collections.PathCollection at 0x118516320>"
      ]
     },
     "execution_count": 12,
     "metadata": {},
     "output_type": "execute_result"
    },
    {
     "data": {
      "image/png": "[encoded data removed]",
      "text/plain": [
       "<matplotlib.figure.Figure at 0x1183d7828>"
      ]
     },
     "metadata": {},
     "output_type": "display_data"
    }
   ],
   "source": [
    "a = 10\n",
    "# result = y_test\n",
    "result = normalized\n",
    "plt.scatter(result[:,0] * a,result[:,1] * a, alpha=0.1, s=0.1)"
   ]
  },
  {
   "cell_type": "code",
   "execution_count": 13,
   "metadata": {},
   "outputs": [],
   "source": [
    "# plt.savefig('../plots/gan.png', bbox_inches='tight')"
   ]
  },
  {
   "cell_type": "code",
   "execution_count": 14,
   "metadata": {},
   "outputs": [
    {
     "data": {
      "text/plain": [
       "0.5002642"
      ]
     },
     "execution_count": 14,
     "metadata": {},
     "output_type": "execute_result"
    }
   ],
   "source": [
    "normalized.mean()"
   ]
  },
  {
   "cell_type": "code",
   "execution_count": null,
   "metadata": {},
   "outputs": [],
   "source": []
  },
  {
   "cell_type": "markdown",
   "metadata": {},
   "source": [
    "# 3D decoder\n",
    "(test)"
   ]
  },
  {
   "cell_type": "code",
   "execution_count": 15,
   "metadata": {},
   "outputs": [],
   "source": [
    "input_length = 2 # this controls the complexity of the final distribution\n",
    "input_shape = (input_length,)\n",
    "output_length = 3 # 3d\n",
    "w = 100 # width of the network\n",
    "k_init = 'glorot_normal' # random_uniform glorot_normal\n",
    "b_init = 'glorot_normal'"
   ]
  },
  {
   "cell_type": "code",
   "execution_count": 33,
   "metadata": {
    "scrolled": true
   },
   "outputs": [
    {
     "name": "stdout",
     "output_type": "stream",
     "text": [
      "_________________________________________________________________\n",
      "Layer (type)                 Output Shape              Param #   \n",
      "=================================================================\n",
      "input_7 (InputLayer)         (None, 2)                 0         \n",
      "_________________________________________________________________\n",
      "dense_73 (Dense)             (None, 100)               300       \n",
      "_________________________________________________________________\n",
      "dense_74 (Dense)             (None, 100)               10100     \n",
      "_________________________________________________________________\n",
      "dense_75 (Dense)             (None, 100)               10100     \n",
      "_________________________________________________________________\n",
      "dense_76 (Dense)             (None, 100)               10100     \n",
      "_________________________________________________________________\n",
      "dense_77 (Dense)             (None, 100)               10100     \n",
      "_________________________________________________________________\n",
      "dense_78 (Dense)             (None, 100)               10100     \n",
      "_________________________________________________________________\n",
      "dense_79 (Dense)             (None, 100)               10100     \n",
      "_________________________________________________________________\n",
      "dense_80 (Dense)             (None, 100)               10100     \n",
      "_________________________________________________________________\n",
      "dense_81 (Dense)             (None, 100)               10100     \n",
      "_________________________________________________________________\n",
      "dense_82 (Dense)             (None, 100)               10100     \n",
      "_________________________________________________________________\n",
      "dense_83 (Dense)             (None, 100)               10100     \n",
      "_________________________________________________________________\n",
      "dense_84 (Dense)             (None, 3)                 303       \n",
      "=================================================================\n",
      "Total params: 101,603\n",
      "Trainable params: 101,603\n",
      "Non-trainable params: 0\n",
      "_________________________________________________________________\n"
     ]
    }
   ],
   "source": [
    "input_ = Input(shape=input_shape)\n",
    "x = Dense(w, activation='relu')(input_) # (None, 128)\n",
    "for i in range(10):\n",
    "    x = Dense(w, activation='relu', kernel_initializer=k_init, bias_initializer=b_init)(x) # (None, 128)\n",
    "\n",
    "x = Dense(output_length ,activation='sigmoid')(x)\n",
    "\n",
    "decoder = Model(input_, x)\n",
    "decoder.summary()\n",
    "\n",
    "decoder.compile(optimizer='adam', loss='categorical_crossentropy')"
   ]
  },
  {
   "cell_type": "code",
   "execution_count": 17,
   "metadata": {},
   "outputs": [
    {
     "name": "stdout",
     "output_type": "stream",
     "text": [
      "shape: (10000, 3)\n",
      "minmax 0.6210563 0.31183663\n"
     ]
    }
   ],
   "source": [
    "n = 1000 * 10\n",
    "x_test = np.random.random([n,input_length])\n",
    "# samples = np.stack([sample])\n",
    "y_test = decoder.predict(x_test)\n",
    "print('shape:', y_test.shape)\n",
    "print('minmax',y_test[0].max(), y_test[0].min())"
   ]
  },
  {
   "cell_type": "code",
   "execution_count": 18,
   "metadata": {},
   "outputs": [],
   "source": [
    "a = 10\n",
    "# for frame in y_test[:0]:\n",
    "#     result = normalize2D(frame)\n",
    "#     plt.scatter(result[:,0] * a, result[:,1] * a, alpha=0.1, s=0.1)"
   ]
  },
  {
   "cell_type": "code",
   "execution_count": 19,
   "metadata": {},
   "outputs": [
    {
     "ename": "NameError",
     "evalue": "name 'normalize' is not defined",
     "output_type": "error",
     "traceback": [
      "\u001b[0;31m---------------------------------------------------------------------------\u001b[0m",
      "\u001b[0;31mNameError\u001b[0m                                 Traceback (most recent call last)",
      "\u001b[0;32m<ipython-input-19-46745d0ca41b>\u001b[0m in \u001b[0;36m<module>\u001b[0;34m()\u001b[0m\n\u001b[1;32m      1\u001b[0m \u001b[0mresult\u001b[0m \u001b[0;34m=\u001b[0m \u001b[0my_test\u001b[0m\u001b[0;34m[\u001b[0m\u001b[0;34m:\u001b[0m\u001b[0;34m,\u001b[0m\u001b[0;36m1\u001b[0m\u001b[0;34m:\u001b[0m\u001b[0;36m3\u001b[0m\u001b[0;34m]\u001b[0m\u001b[0;34m\u001b[0m\u001b[0m\n\u001b[0;32m----> 2\u001b[0;31m \u001b[0mresult\u001b[0m \u001b[0;34m=\u001b[0m \u001b[0mnormalize\u001b[0m\u001b[0;34m(\u001b[0m\u001b[0mresult\u001b[0m\u001b[0;34m)\u001b[0m\u001b[0;34m\u001b[0m\u001b[0m\n\u001b[0m\u001b[1;32m      3\u001b[0m \u001b[0mresult\u001b[0m\u001b[0;34m.\u001b[0m\u001b[0mshape\u001b[0m\u001b[0;34m\u001b[0m\u001b[0m\n",
      "\u001b[0;31mNameError\u001b[0m: name 'normalize' is not defined"
     ]
    }
   ],
   "source": [
    "result = y_test[:,1:3]\n",
    "result = normalize(result)\n",
    "result.shape"
   ]
  },
  {
   "cell_type": "code",
   "execution_count": null,
   "metadata": {},
   "outputs": [],
   "source": [
    "plt.scatter(result[:,0] * a, result[:,1] * a, alpha=0.1, s=0.1)"
   ]
  },
  {
   "cell_type": "code",
   "execution_count": null,
   "metadata": {},
   "outputs": [],
   "source": [
    "# normalize z_values\n",
    "def normalize1D(vector=[]):\n",
    "    minn = vector.min()\n",
    "    maxx = vector.max()\n",
    "    return (vector.copy() - minn) / (maxx - minn)"
   ]
  },
  {
   "cell_type": "code",
   "execution_count": null,
   "metadata": {},
   "outputs": [],
   "source": [
    "# z values correspond to the 3d dimension (time)\n",
    "z_values = y_test[:,0]\n",
    "z_values = normalize1D(z_values)"
   ]
  },
  {
   "cell_type": "code",
   "execution_count": null,
   "metadata": {},
   "outputs": [],
   "source": [
    "plt.hist(z_values)"
   ]
  },
  {
   "cell_type": "code",
   "execution_count": null,
   "metadata": {},
   "outputs": [],
   "source": [
    "frames_list = []\n",
    "n_frames = 3\n",
    "for i in range(n_frames):\n",
    "    lower = i * 1./n_frames\n",
    "    upper = (i+1) * 1./n_frames\n",
    "    c = (lower <= z_values) & (z_values < upper)\n",
    "    frames = (y_test[np.where(c)])\n",
    "    frames_list.append(frames)\n",
    "    #     frames = y_test[ np.where(z_values < 0.5) ]\n",
    "\n",
    "frame = frames_list[0]\n",
    "frames[:,1:3].shape"
   ]
  },
  {
   "cell_type": "code",
   "execution_count": null,
   "metadata": {},
   "outputs": [],
   "source": []
  },
  {
   "cell_type": "code",
   "execution_count": null,
   "metadata": {},
   "outputs": [],
   "source": [
    "frame = frames_list[0]\n",
    "# result = normalize2D(frames[:,1:3])\n",
    "result = normalize(frames[:,1:3], axis=0)\n",
    "a = 1000\n",
    "plt.scatter(result[:,0] * a, result[:,1] * a, alpha=0.1, s=0.1)"
   ]
  },
  {
   "cell_type": "code",
   "execution_count": null,
   "metadata": {},
   "outputs": [],
   "source": [
    "frame = frames_list[-1]\n",
    "# result = normalize2D(frames[:,1:3])\n",
    "result = normalize(frames[:,1:3], axis=0)\n",
    "a = 1000\n",
    "plt.scatter(result[:,0] * a, result[:,1] * a, alpha=0.1, s=0.1)"
   ]
  },
  {
   "cell_type": "markdown",
   "metadata": {},
   "source": [
    "# 2D decoder with 3D input"
   ]
  },
  {
   "cell_type": "code",
   "execution_count": 40,
   "metadata": {},
   "outputs": [],
   "source": [
    "def decoder(input_length=2, w=100, k_init = 'glorot_normal', b_init = 'glorot_normal'):\n",
    "    \"\"\"\n",
    "    :input_length controls the complexity of the final distribution\n",
    "      higher input values result in a more normal output distribution and a more circular graph\n",
    "    :w = width of the network\n",
    "    :k_init, :b_init = types of distributions\n",
    "    \"\"\"\n",
    "    input_shape = (input_length,)\n",
    "    input_ = Input(shape=input_shape)\n",
    "    # use lots of neurons to generate complexity\n",
    "    n_hidden_layers = 10\n",
    "    x = Dense(w, activation='relu')(input_) # (None, 128)\n",
    "    for i in range(n_hidden_layers):\n",
    "        x = Dense(w, activation='relu', kernel_initializer=k_init, bias_initializer=b_init)(x) # (None, 128)\n",
    "\n",
    "    # output layer (e.g. x,y coordinates)\n",
    "    x = Dense(output_length ,activation='sigmoid')(x)\n",
    "    decoder = Model(input_, x)\n",
    "    decoder.compile(optimizer='adam', loss='categorical_crossentropy')\n",
    "    return decoder, decoder.summary"
   ]
  },
  {
   "cell_type": "code",
   "execution_count": 41,
   "metadata": {
    "scrolled": true
   },
   "outputs": [
    {
     "name": "stdout",
     "output_type": "stream",
     "text": [
      "_________________________________________________________________\n",
      "Layer (type)                 Output Shape              Param #   \n",
      "=================================================================\n",
      "input_10 (InputLayer)        (None, 3)                 0         \n",
      "_________________________________________________________________\n",
      "dense_109 (Dense)            (None, 100)               400       \n",
      "_________________________________________________________________\n",
      "dense_110 (Dense)            (None, 100)               10100     \n",
      "_________________________________________________________________\n",
      "dense_111 (Dense)            (None, 100)               10100     \n",
      "_________________________________________________________________\n",
      "dense_112 (Dense)            (None, 100)               10100     \n",
      "_________________________________________________________________\n",
      "dense_113 (Dense)            (None, 100)               10100     \n",
      "_________________________________________________________________\n",
      "dense_114 (Dense)            (None, 100)               10100     \n",
      "_________________________________________________________________\n",
      "dense_115 (Dense)            (None, 100)               10100     \n",
      "_________________________________________________________________\n",
      "dense_116 (Dense)            (None, 100)               10100     \n",
      "_________________________________________________________________\n",
      "dense_117 (Dense)            (None, 100)               10100     \n",
      "_________________________________________________________________\n",
      "dense_118 (Dense)            (None, 100)               10100     \n",
      "_________________________________________________________________\n",
      "dense_119 (Dense)            (None, 100)               10100     \n",
      "_________________________________________________________________\n",
      "dense_120 (Dense)            (None, 3)                 303       \n",
      "=================================================================\n",
      "Total params: 101,703\n",
      "Trainable params: 101,703\n",
      "Non-trainable params: 0\n",
      "_________________________________________________________________\n"
     ]
    }
   ],
   "source": [
    "input_length = 3\n",
    "model, summary = decoder(input_length)\n",
    "summary()"
   ]
  },
  {
   "cell_type": "markdown",
   "metadata": {},
   "source": [
    "### Generate training data, for different frames\n",
    "\n",
    "For each input vector:\n",
    " - vector.shape = (z,y,x)\n",
    "     - x,y = cartesian coordinates\n",
    "     - z = instance in time\n",
    "\n",
    "The model simulated a distribution, conditionally on z."
   ]
  },
  {
   "cell_type": "code",
   "execution_count": 205,
   "metadata": {},
   "outputs": [
    {
     "data": {
      "text/plain": [
       "(1000, 3)"
      ]
     },
     "execution_count": 205,
     "metadata": {},
     "output_type": "execute_result"
    }
   ],
   "source": [
    "# store data for each instance independently\n",
    "x_test_list = []\n",
    "n = 1000 * 1\n",
    "for z in [0, 0.5, 0.6]:\n",
    "    x_test = np.random.random([n,input_length])\n",
    "    x_test[:,0] = z\n",
    "    x_test_list.append(x_test)\n",
    "x_test.shape"
   ]
  },
  {
   "cell_type": "code",
   "execution_count": 206,
   "metadata": {},
   "outputs": [
    {
     "data": {
      "text/plain": [
       "(10, 3)"
      ]
     },
     "execution_count": 206,
     "metadata": {},
     "output_type": "execute_result"
    }
   ],
   "source": [
    "y_test_list = []\n",
    "for x_test in x_test_list:\n",
    "    y_test_list.append(model.predict(x_test))\n",
    "y_test.shape"
   ]
  },
  {
   "cell_type": "code",
   "execution_count": 207,
   "metadata": {},
   "outputs": [
    {
     "name": "stdout",
     "output_type": "stream",
     "text": [
      "0.0 0.40529138 1.0\n"
     ]
    }
   ],
   "source": [
    "# scale/normalize data, based on features\n",
    "# axis determines whether the data is scaled based on the 'global' features\n",
    "# axis = 0: max per feature (between instances)\n",
    "# axis = 1: max per instance (ignore features)\n",
    "# e.g. np.arange(9).reshape(3,3).max(axis=0)\n",
    "\n",
    "# MinMaxScaler uses axis=0\n",
    "min_max_scaler = preprocessing.MinMaxScaler()\n",
    "y_test_xy_list = []\n",
    "for y_test in y_test_list:\n",
    "    y_test_xy = y_test[:,1:3] # omit z\n",
    "    normalized = min_max_scaler.fit_transform(y_test_xy)\n",
    "    y_test_xy_list.append(normalized)\n",
    "    \n",
    "print(normalized.min(), normalized.mean(), normalized.max())"
   ]
  },
  {
   "cell_type": "code",
   "execution_count": 208,
   "metadata": {},
   "outputs": [
    {
     "data": {
      "image/png": "[encoded data removed]",
      "text/plain": [
       "<matplotlib.figure.Figure at 0x1209ca518>"
      ]
     },
     "metadata": {},
     "output_type": "display_data"
    }
   ],
   "source": [
    "plt.figure(1)\n",
    "for i,plot_config in enumerate([311,312,313]):\n",
    "    plt.subplot(plot_config)\n",
    "    x_values = y_test_xy_list[i][:,0]\n",
    "    y_values = y_test_xy_list[i][:,1]\n",
    "    plt.scatter(x_values, y_values, alpha=0.5, s=0.2)\n",
    "# plt.scatter(x_values, y_values, alpha=0.5, s=0.2)"
   ]
  },
  {
   "cell_type": "code",
   "execution_count": 209,
   "metadata": {},
   "outputs": [
    {
     "data": {
      "text/plain": [
       "(1000,)"
      ]
     },
     "execution_count": 209,
     "metadata": {},
     "output_type": "execute_result"
    }
   ],
   "source": [
    "y_values.shape"
   ]
  },
  {
   "cell_type": "code",
   "execution_count": 210,
   "metadata": {},
   "outputs": [
    {
     "data": {
      "text/plain": [
       "(1000, 2)"
      ]
     },
     "execution_count": 210,
     "metadata": {},
     "output_type": "execute_result"
    }
   ],
   "source": [
    "y_test_xy_list[0].shape"
   ]
  },
  {
   "cell_type": "code",
   "execution_count": 211,
   "metadata": {},
   "outputs": [
    {
     "data": {
      "text/plain": [
       "(1000, 3)"
      ]
     },
     "execution_count": 211,
     "metadata": {},
     "output_type": "execute_result"
    }
   ],
   "source": [
    "y_test_list[0].shape"
   ]
  },
  {
   "cell_type": "code",
   "execution_count": null,
   "metadata": {},
   "outputs": [],
   "source": []
  }
 ],
 "metadata": {
  "kernelspec": {
   "display_name": "Python 3",
   "language": "python",
   "name": "python3"
  },
  "language_info": {
   "codemirror_mode": {
    "name": "ipython",
    "version": 3
   },
   "file_extension": ".py",
   "mimetype": "text/x-python",
   "name": "python",
   "nbconvert_exporter": "python",
   "pygments_lexer": "ipython3",
   "version": "3.6.4"
  }
 },
 "nbformat": 4,
 "nbformat_minor": 2
}
