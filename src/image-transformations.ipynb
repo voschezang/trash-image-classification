{
 "cells": [
  {
   "cell_type": "code",
   "execution_count": 1,
   "metadata": {},
   "outputs": [],
   "source": [
    "from PIL import ImageEnhance\n",
    "from PIL import Image"
   ]
  },
  {
   "cell_type": "markdown",
   "metadata": {},
   "source": [
    "## Image transformation"
   ]
  },
  {
   "cell_type": "code",
   "execution_count": 21,
   "metadata": {},
   "outputs": [],
   "source": [
    "\"\"\"\n",
    "sf = sharpness factor\n",
    "    - An enhancement factor of 0.0 gives a blurred image, a factor of 1.0 gives the original image,\n",
    "      and a factor of 2.0 gives a sharpened image.\n",
    "colf = color factor\n",
    "    - An enhancement factor of 0.0 gives a black and white image. A factor of 1.0 gives the original image.\n",
    "conf = contrast factor\n",
    "    - An enhancement factor of 0.0 gives a solid grey image. A factor of 1.0 gives the original image.\n",
    "bf = brightness factor\n",
    "    - An enhancement factor of 0.0 gives a black image. A factor of 1.0 gives the original image.\n",
    "\"\"\"\n",
    "\n",
    "def transform_image(sf, colf, conf, bf, img):\n",
    "    brightness = ImageEnhance.Brightness(img)\n",
    "    \n",
    "    contrast = ImageEnhance.Contrast(img)\n",
    "    trans_img = contrast.enhance(conf)\n",
    "    sharpness = ImageEnhance.Sharpness(trans_img)\n",
    "    trans_img = sharpness.enhance(sf)\n",
    "    color = ImageEnhance.Color(trans_img)\n",
    "    trans_img = color.enhance(colf)\n",
    "    brightness = ImageEnhance.Brightness(trans_img)\n",
    "    end_img = brightness.enhance(bf)\n",
    "\n",
    "    #end_img.save('') # fill in directory\n",
    "    end_img.show()\n",
    "    \n",
    "image = Image.open(\"/Users/Tristan/Downloads/dog.jpg\") # fill in directory\n",
    "transform_image(1.5,0.0,0.8,1,image)    \n"
   ]
  },
  {
   "cell_type": "code",
   "execution_count": null,
   "metadata": {
    "collapsed": true
   },
   "outputs": [],
   "source": []
  }
 ],
 "metadata": {
  "kernelspec": {
   "display_name": "Python 3",
   "language": "python",
   "name": "python3"
  },
  "language_info": {
   "codemirror_mode": {
    "name": "ipython",
    "version": 3
   },
   "file_extension": ".py",
   "mimetype": "text/x-python",
   "name": "python",
   "nbconvert_exporter": "python",
   "pygments_lexer": "ipython3",
   "version": "3.6.4"
  }
 },
 "nbformat": 4,
 "nbformat_minor": 2
}
