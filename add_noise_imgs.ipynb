{
 "cells": [
  {
   "cell_type": "markdown",
   "metadata": {},
   "source": [
    "In this notebook a script is made to create new noise images to add to our dataset in order to attempt to improve our model."
   ]
  },
  {
   "cell_type": "markdown",
   "metadata": {},
   "source": [
    "### imports"
   ]
  },
  {
   "cell_type": "code",
   "execution_count": 45,
   "metadata": {
    "collapsed": true
   },
   "outputs": [],
   "source": [
    "import os, sklearn, numpy as np\n",
    "from sklearn import svm\n",
    "from skimage import data, io, filters\n",
    "import matplotlib.pyplot as plt\n",
    "import string\n",
    "from random import *\n",
    "import matplotlib\n",
    "import pandas\n",
    "import csv\n",
    "\n",
    "%matplotlib inline"
   ]
  },
  {
   "cell_type": "markdown",
   "metadata": {},
   "source": [
    "Function to generate random image"
   ]
  },
  {
   "cell_type": "code",
   "execution_count": 4,
   "metadata": {},
   "outputs": [
    {
     "data": {
      "text/plain": [
       "<matplotlib.image.AxesImage at 0x1c1b2c7978>"
      ]
     },
     "execution_count": 4,
     "metadata": {},
     "output_type": "execute_result"
    },
    {
     "data": {
      "image/png": "[encoded data removed]",
      "text/plain": [
       "<matplotlib.figure.Figure at 0x1c1acbd2b0>"
      ]
     },
     "metadata": {},
     "output_type": "display_data"
    }
   ],
   "source": [
    "# generate a random image\n",
    "def random_img(shape=[373,500,3]):\n",
    "    # TODO use the same datatype as training-data\n",
    "    return np.random.random(shape)\n",
    "io.imshow(random_img([500,350,3]))"
   ]
  },
  {
   "cell_type": "markdown",
   "metadata": {},
   "source": [
    "First we have to create a function to create a unique ID for the new images"
   ]
  },
  {
   "cell_type": "code",
   "execution_count": 38,
   "metadata": {},
   "outputs": [
    {
     "data": {
      "text/plain": [
       "'cl0ktwijdoe2eqjykkqfpdd2ybqapip6gio8'"
      ]
     },
     "execution_count": 38,
     "metadata": {},
     "output_type": "execute_result"
    }
   ],
   "source": [
    "allchar = string.ascii_letters + string.punctuation + string.digits\n",
    "def create_rand_str(amt_of_chars):\n",
    "    allchar = string.ascii_letters + string.digits\n",
    "    unique_id = \"\".join(choice(allchar.lower()) for x in range(amt_of_chars))\n",
    "    return unique_id\n",
    "                        \n",
    "create_rand_str(36)\n",
    "    "
   ]
  },
  {
   "cell_type": "markdown",
   "metadata": {},
   "source": [
    "Then we create a function to create the new images. Some_dir and amt_imgs needs to be filled in by hand"
   ]
  },
  {
   "cell_type": "code",
   "execution_count": 1,
   "metadata": {},
   "outputs": [
    {
     "ename": "NameError",
     "evalue": "name 'create_rand_str' is not defined",
     "output_type": "error",
     "traceback": [
      "\u001b[0;31m---------------------------------------------------------------------------\u001b[0m",
      "\u001b[0;31mNameError\u001b[0m                                 Traceback (most recent call last)",
      "\u001b[0;32m<ipython-input-1-3d2d12ff2d90>\u001b[0m in \u001b[0;36m<module>\u001b[0;34m()\u001b[0m\n\u001b[1;32m     29\u001b[0m \u001b[0;34m\u001b[0m\u001b[0m\n\u001b[1;32m     30\u001b[0m \u001b[0;31m# (dir, amount training images, amount test images)\u001b[0m\u001b[0;34m\u001b[0m\u001b[0;34m\u001b[0m\u001b[0m\n\u001b[0;32m---> 31\u001b[0;31m \u001b[0madd_random_images_to_dir\u001b[0m\u001b[0;34m(\u001b[0m\u001b[0;34m'fill in'\u001b[0m\u001b[0;34m,\u001b[0m \u001b[0;36m1\u001b[0m\u001b[0;34m,\u001b[0m\u001b[0;36m1\u001b[0m\u001b[0;34m)\u001b[0m   \u001b[0;31m# FILL IN DIRECTORY\u001b[0m\u001b[0;34m\u001b[0m\u001b[0m\n\u001b[0m\u001b[1;32m     32\u001b[0m \u001b[0;34m\u001b[0m\u001b[0m\n",
      "\u001b[0;32m<ipython-input-1-3d2d12ff2d90>\u001b[0m in \u001b[0;36madd_random_images_to_dir\u001b[0;34m(some_dir, amt_train_imgs, amt_test_imgs)\u001b[0m\n\u001b[1;32m      3\u001b[0m     \u001b[0;32mfor\u001b[0m \u001b[0m_\u001b[0m \u001b[0;32min\u001b[0m \u001b[0mrange\u001b[0m\u001b[0;34m(\u001b[0m\u001b[0mamt_train_imgs\u001b[0m\u001b[0;34m)\u001b[0m\u001b[0;34m:\u001b[0m\u001b[0;34m\u001b[0m\u001b[0m\n\u001b[1;32m      4\u001b[0m         \u001b[0;31m# create image id\u001b[0m\u001b[0;34m\u001b[0m\u001b[0;34m\u001b[0m\u001b[0m\n\u001b[0;32m----> 5\u001b[0;31m         \u001b[0mimg_id\u001b[0m \u001b[0;34m=\u001b[0m \u001b[0mcreate_rand_str\u001b[0m\u001b[0;34m(\u001b[0m\u001b[0;36m36\u001b[0m\u001b[0;34m)\u001b[0m\u001b[0;34m\u001b[0m\u001b[0m\n\u001b[0m\u001b[1;32m      6\u001b[0m         \u001b[0;31m# create new image\u001b[0m\u001b[0;34m\u001b[0m\u001b[0;34m\u001b[0m\u001b[0m\n\u001b[1;32m      7\u001b[0m         \u001b[0mnoise_img\u001b[0m \u001b[0;34m=\u001b[0m \u001b[0mrandom_img\u001b[0m\u001b[0;34m(\u001b[0m\u001b[0;34m[\u001b[0m\u001b[0;36m500\u001b[0m\u001b[0;34m,\u001b[0m\u001b[0;36m350\u001b[0m\u001b[0;34m,\u001b[0m\u001b[0;36m3\u001b[0m\u001b[0;34m]\u001b[0m\u001b[0;34m)\u001b[0m\u001b[0;34m\u001b[0m\u001b[0m\n",
      "\u001b[0;31mNameError\u001b[0m: name 'create_rand_str' is not defined"
     ]
    }
   ],
   "source": [
    "def add_random_images_to_dir(some_dir, amt_train_imgs, amt_test_imgs):\n",
    "    # create random training images\n",
    "    for _ in range(amt_train_imgs):\n",
    "        # create image id\n",
    "        img_id = create_rand_str(36)\n",
    "        # create new image\n",
    "        noise_img = random_img([500,350,3])\n",
    "        label_to_csv('0', img_id)\n",
    "        # save the image to directory\n",
    "        matplotlib.image.imsave(\"{0}/{1}.png\".format(some_dir, img_id), noise_img)\n",
    "    \n",
    "    # create random testing images\n",
    "    for _ in range(amt_test_imgs):\n",
    "        # create image id\n",
    "        img_id = create_rand_str(36)\n",
    "        # create new image\n",
    "        noise_img = random_img([500,350,3])\n",
    "        label_to_csv('0', img_id)\n",
    "        # save the image to directory\n",
    "        matplotlib.image.imsave(\"{0}/{1}.png\".format(some_dir, img_id), noise_img)\n",
    "\n",
    "\n",
    "def label_to_csv(label, unique_id):\n",
    "    # adds the label and the unique id to the label csv file\n",
    "    fd = open('src/data/labels.csv','a') # WHEN TESTING, FILL IN A COPY OF THE FILE\n",
    "    row = '{0},{1}'.format(unique_id, label)\n",
    "    fd.write(row)\n",
    "    fd.close()\n",
    "\n",
    "# (dir, amount training images, amount test images)\n",
    "add_random_images_to_dir('fill in', 1,1)   # FILL IN DIRECTORY   \n",
    "        \n"
   ]
  },
  {
   "cell_type": "code",
   "execution_count": null,
   "metadata": {
    "collapsed": true
   },
   "outputs": [],
   "source": []
  },
  {
   "cell_type": "code",
   "execution_count": null,
   "metadata": {
    "collapsed": true
   },
   "outputs": [],
   "source": []
  }
 ],
 "metadata": {
  "kernelspec": {
   "display_name": "Python 3",
   "language": "python",
   "name": "python3"
  },
  "language_info": {
   "codemirror_mode": {
    "name": "ipython",
    "version": 3
   },
   "file_extension": ".py",
   "mimetype": "text/x-python",
   "name": "python",
   "nbconvert_exporter": "python",
   "pygments_lexer": "ipython3",
   "version": "3.6.3"
  }
 },
 "nbformat": 4,
 "nbformat_minor": 2
}
